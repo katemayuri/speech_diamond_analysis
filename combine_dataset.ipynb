{
 "cells": [
  {
   "cell_type": "markdown",
   "metadata": {},
   "source": [
    "The below code combines all labelled data stored in two folders \"Rapaport Pocasts\" and \"Youtube market Analysis\" in single json file for finetuning the model.\n",
    "Both the folders contains Audio/Video files, their transcriptions and generated labelled data containing group of sentences/text with respective sentiments, keywords and trends."
   ]
  },
  {
   "cell_type": "code",
   "execution_count": null,
   "metadata": {},
   "outputs": [],
   "source": [
    "import os\n",
    "import json\n",
    "\n",
    "# Define your folders\n",
    "folder1 = \"/Audio/Rapaport Podcasts/label_data\"\n",
    "folder2 = \"/Audio/Youtube market Analysis/label_data\"\n",
    "combined_data = []\n",
    "\n",
    "# Combine files from both folders\n",
    "for folder in [folder1, folder2]:\n",
    "    for file_name in os.listdir(folder):\n",
    "        if file_name.endswith(\".json\"): \n",
    "            with open(os.path.join(folder, file_name), 'r') as f:\n",
    "                data = json.load(f)\n",
    "                combined_data.extend(data)  \n",
    "\n",
    "# Save the combined data into a single file\n",
    "with open(\"combined_dataset.json\", 'w') as f:\n",
    "    json.dump(combined_data, f, indent=4)\n",
    "\n",
    "print(\"Combined dataset saved as 'combined_dataset.json'\")"
   ]
  }
 ],
 "metadata": {
  "kernelspec": {
   "display_name": "Python 3",
   "language": "python",
   "name": "python3"
  },
  "language_info": {
   "name": "python",
   "version": "3.12.6"
  }
 },
 "nbformat": 4,
 "nbformat_minor": 2
}
